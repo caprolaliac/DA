{
  "nbformat": 4,
  "nbformat_minor": 0,
  "metadata": {
    "colab": {
      "provenance": [],
      "authorship_tag": "ABX9TyOeALnfYueBu7dwLzaWubac",
      "include_colab_link": true
    },
    "kernelspec": {
      "name": "python3",
      "display_name": "Python 3"
    },
    "language_info": {
      "name": "python"
    }
  },
  "cells": [
    {
      "cell_type": "markdown",
      "metadata": {
        "id": "view-in-github",
        "colab_type": "text"
      },
      "source": [
        "<a href=\"https://colab.research.google.com/github/caprolaliac/Tableau-Data-Analytics-and-visualisation/blob/main/faker_data.ipynb\" target=\"_parent\"><img src=\"https://colab.research.google.com/assets/colab-badge.svg\" alt=\"Open In Colab\"/></a>"
      ]
    },
    {
      "cell_type": "code",
      "source": [
        "!pip install faker -q"
      ],
      "metadata": {
        "colab": {
          "base_uri": "https://localhost:8080/"
        },
        "id": "SHiriayF_Kgi",
        "outputId": "28d09791-1c49-4de3-a752-6fc1d49d7103"
      },
      "execution_count": 1,
      "outputs": [
        {
          "output_type": "stream",
          "name": "stdout",
          "text": [
            "\u001b[2K     \u001b[90m━━━━━━━━━━━━━━━━━━━━━━━━━━━━━━━━━━━━━━━━\u001b[0m \u001b[32m1.8/1.8 MB\u001b[0m \u001b[31m4.3 MB/s\u001b[0m eta \u001b[36m0:00:00\u001b[0m\n",
            "\u001b[?25h"
          ]
        }
      ]
    },
    {
      "cell_type": "code",
      "execution_count": 3,
      "metadata": {
        "colab": {
          "base_uri": "https://localhost:8080/"
        },
        "id": "bUSzClYK_IOr",
        "outputId": "411ed831-c199-4121-edf7-f960a1bace04"
      },
      "outputs": [
        {
          "output_type": "stream",
          "name": "stdout",
          "text": [
            "Dataset created and saved to hr_dataset.csv\n"
          ]
        }
      ],
      "source": [
        "import pandas as pd\n",
        "from faker import Faker\n",
        "import random\n",
        "\n",
        "# Initialize Faker\n",
        "fake = Faker()\n",
        "\n",
        "# Define the number of records\n",
        "num_records = 10000\n",
        "\n",
        "# Create empty lists to hold the data\n",
        "employee_id = []\n",
        "first_name = []\n",
        "last_name = []\n",
        "gender = []\n",
        "date_of_birth = []\n",
        "hire_date = []\n",
        "job_title = []\n",
        "department = []\n",
        "salary = []\n",
        "performance_score = []\n",
        "attrition = []\n",
        "\n",
        "# Populate the lists with fake data\n",
        "for _ in range(num_records):\n",
        "    employee_id.append(fake.unique.uuid4())\n",
        "    first_name.append(fake.first_name())\n",
        "    last_name.append(fake.last_name())\n",
        "    gender.append(random.choice(['Male', 'Female']))\n",
        "    date_of_birth.append(fake.date_of_birth(minimum_age=21, maximum_age=65))\n",
        "    hire_date.append(fake.date_between(start_date='-10y', end_date='today'))\n",
        "    job_title.append(fake.job())\n",
        "    department.append(fake.random_element(elements=('HR', 'IT', 'Finance', 'Sales', 'Marketing', 'Operations')))\n",
        "    salary.append(round(random.uniform(40000, 120000), 2))\n",
        "    performance_score.append(random.randint(1, 5))\n",
        "    attrition.append(fake.boolean(chance_of_getting_true=10))  # Assuming a 10% attrition rate\n",
        "\n",
        "# Create a DataFrame\n",
        "data = pd.DataFrame({\n",
        "    'Employee ID': employee_id,\n",
        "    'First Name': first_name,\n",
        "    'Last Name': last_name,\n",
        "    'Gender': gender,\n",
        "    'Date of Birth': date_of_birth,\n",
        "    'Hire Date': hire_date,\n",
        "    'Job Title': job_title,\n",
        "    'Department': department,\n",
        "    'Salary': salary,\n",
        "    'Performance Score': performance_score,\n",
        "    'Attrition': attrition\n",
        "})\n",
        "\n",
        "# Save the DataFrame to a CSV file\n",
        "data.to_csv('hr_dataset.csv', index=False)\n",
        "\n",
        "print(\"Dataset created and saved to hr_dataset.csv\")\n"
      ]
    },
    {
      "cell_type": "code",
      "source": [],
      "metadata": {
        "id": "KBhORRXt_m5u"
      },
      "execution_count": null,
      "outputs": []
    }
  ]
}